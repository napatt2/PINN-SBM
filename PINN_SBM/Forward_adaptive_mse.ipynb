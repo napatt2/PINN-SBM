{
  "nbformat": 4,
  "nbformat_minor": 0,
  "metadata": {
    "colab": {
      "provenance": [],
      "gpuType": "T4"
    },
    "kernelspec": {
      "name": "python3",
      "display_name": "Python 3"
    },
    "language_info": {
      "name": "python"
    },
    "accelerator": "GPU"
  },
  "cells": [
    {
      "cell_type": "code",
      "execution_count": null,
      "metadata": {
        "id": "1ioFthYvmaNt"
      },
      "outputs": [],
      "source": [
        "import deepxde as dde\n",
        "import numpy as np\n",
        "import matplotlib.pyplot as plt\n",
        "from scipy import integrate\n",
        "from deepxde.backend import tf\n",
        "import shutil\n",
        "import os\n",
        "from scipy import interpolate\n",
        "import pandas as pd"
      ]
    },
    {
      "cell_type": "code",
      "source": [
        "alpha = 9.81\n",
        "kappa = 1\n",
        "v0 = 1\n",
        "a = 0.2\n",
        "b = 0.3\n",
        "L =  0.25"
      ],
      "metadata": {
        "id": "0BYSbAXHmbWv"
      },
      "execution_count": null,
      "outputs": []
    },
    {
      "cell_type": "markdown",
      "source": [
        "# Formulation of the Problem\n",
        "Modified system of equations can be written as follows:\n",
        "\n",
        "\\begin{gather*}\n",
        "\\frac{dv}{dt} = A \\\\\n",
        "\\frac{dA}{dt} = \\kappa(v_o - v) - \\alpha\\left(\\frac{aA}{v} + \\frac{b}{\\theta}\\left(1 - \\frac{v\\theta}{L}\\right)\\right) \\\\\n",
        "\\frac{d\\theta}{dt} = 1 - \\frac{v\\theta}{L}\n",
        "\\end{gather*}\n"
      ],
      "metadata": {
        "id": "Jfs0EbTnonj9"
      }
    },
    {
      "cell_type": "code",
      "source": [
        "def ode_system(x, y):\n",
        "  v = y[:, 0:1]\n",
        "  A = y[:, 1:2]\n",
        "  theta = y[:, 2:3]\n",
        "\n",
        "  dv_t = dde.grad.jacobian(y, x, i=0)\n",
        "  dA_t = dde.grad.jacobian(y, x, i=1)\n",
        "  dtheta_t = dde.grad.jacobian(y, x, i=2)\n",
        "\n",
        "  return   [\n",
        "      dv_t - A,\n",
        "      dA_t - kappa * (v0 - v) + alpha * (a/v*A + b/theta*(1-v*theta/L)),\n",
        "      dtheta_t - 1 + v*theta/L ]"
      ],
      "metadata": {
        "id": "VGgonbYAmeWu"
      },
      "execution_count": null,
      "outputs": []
    },
    {
      "cell_type": "code",
      "source": [
        "def MSE(pred1, pred2):\n",
        "  return np.square(np.subtract(pred1, pred2)).mean()"
      ],
      "metadata": {
        "id": "T2fTYx27mi_u"
      },
      "execution_count": null,
      "outputs": []
    },
    {
      "cell_type": "markdown",
      "source": [
        "# Define Training Function\n",
        "`train_deepxde` is the training function for each time step. It takes number of residual points, time, initial values of $v$, $A$, and $\\theta$. The default traininf has 4 layer of 64 neurons, Adam optimizer with learning rate 0.001. We train for 30,000 iterations."
      ],
      "metadata": {
        "id": "6GL_bwWzqROe"
      }
    },
    {
      "cell_type": "code",
      "source": [
        "def train_deepxde(num_res, tmax, v0, A0, theta0, model_index):\n",
        "  def output_transform(t, y):\n",
        "    y1 = y[:, 0:1]\n",
        "    y2 = y[:, 1:2]\n",
        "    y3 = y[:, 2:3]\n",
        "\n",
        "    return tf.concat(\n",
        "        [y1 * tf.tanh(t) + v0, y2 * tf.tanh(t) + A0, y3 * tf.tanh(t) + theta0], axis=1\n",
        "    )\n",
        "  geom = dde.geometry.TimeDomain(0, tmax)\n",
        "  data = dde.data.PDE(geom, ode_system,[], num_res, 0, num_test = 30000)\n",
        "  layer_size = [1] + [64] * 4 + [3]\n",
        "  activation = \"tanh\"\n",
        "  initializer = \"Glorot normal\"\n",
        "  net = dde.nn.FNN(layer_size, activation, initializer)\n",
        "  net.apply_output_transform(output_transform)\n",
        "  model = dde.Model(data, net)\n",
        "  model.compile(\"adam\", lr=0.001)\n",
        "  checker = dde.callbacks.ModelCheckpoint(\n",
        "      \"Model/\"+str(model_index)+\"/model\"+str(count)+\"/model.ckpt\", save_better_only=True, period=500\n",
        "  )\n",
        "  losshistory, train_state = model.train(iterations=30000, callbacks=[checker])\n",
        "\n",
        "\n",
        "  if losshistory.steps[-1] != 30000:\n",
        "      model, train_state = train_deepxde(num_res, tmax, v0, A0, theta0)\n",
        "  else:\n",
        "      dde.saveplot(losshistory, train_state, issave=True, isplot=True)\n",
        "      model.restore(\"Model/\"+str(model_index)+\"/model\"+str(count)+\"/model.ckpt-\" + str(train_state.best_step)+'.ckpt', verbose=1)\n",
        "      dde.saveplot(losshistory, train_state, issave=True, isplot=True)\n",
        "\n",
        "\n",
        "  return model"
      ],
      "metadata": {
        "id": "ZPQBi53WnDVz"
      },
      "execution_count": null,
      "outputs": []
    },
    {
      "cell_type": "markdown",
      "source": [
        "# Train Adaptive Time Stepping with MSE Tolerance\n",
        "We train 3 models and inspect MSE of them. The training is 1 full step and 2 half steps. If MSE is greater than the tolerance, we bisect time step and train the model again. If not, the model proceed to the next step."
      ],
      "metadata": {
        "id": "DsxVdtQLqXqu"
      }
    },
    {
      "cell_type": "code",
      "source": [
        "tol = 0.0001\n",
        "tmax = 10\n",
        "num_res = 100000\n",
        "\n",
        "t_values = []\n",
        "v_values = []\n",
        "A_values = []\n",
        "theta_values = []\n",
        "t_log = []\n",
        "v_log = []\n",
        "A_log = []\n",
        "theta_log = []\n",
        "\n",
        "t = 9.75\n",
        "v, A, theta = 0.026057033,0.008191966,4.470924\n",
        "count = 0\n",
        "\n",
        "while t <= tmax:\n",
        "  t_values.append(t)\n",
        "  v_values.append(v)\n",
        "  A_values.append(A)\n",
        "  theta_values.append(theta)\n",
        "  h = 0.5\n",
        "\n",
        "  trunc_error = 100\n",
        "  while trunc_error > tol:\n",
        "    dt = 2*h\n",
        "\n",
        "    model1_half = train_deepxde(num_res, h, v, A, theta, 1)\n",
        "    t_test1 = np.linspace(0, h, 1000).reshape(1000, 1)\n",
        "    pred1_half = model1_half.predict(t_test1)\n",
        "    v1_half = pred1_half[:,0].reshape(-1)\n",
        "    A1_half = pred1_half[:,1].reshape(-1)\n",
        "    theta1_half = pred1_half[:,2].reshape(-1)\n",
        "\n",
        "    model1_end = train_deepxde(num_res, h, v1_half[-1], A1_half[-1], theta1_half[-1], 2)\n",
        "    pred1 = model1_end.predict(t_test1)\n",
        "    v1_end = pred1[:,0].reshape(-1)\n",
        "    A1_end = pred1[:,1].reshape(-1)\n",
        "    theta1_end = pred1[:,2].reshape(-1)\n",
        "\n",
        "    v1 = np.concatenate((v1_half, v1_end), axis = 0)\n",
        "    A1 = np.concatenate((A1_half, A1_end), axis = 0)\n",
        "    theta1 = np.concatenate((theta1_half, theta1_end), axis = 0)\n",
        "\n",
        "    model2 = train_deepxde(num_res, 2*h, v, A, theta, 3)\n",
        "    t_test2 = np.linspace(0, 2*h, 2000).reshape(2000, 1)\n",
        "    pred2 = model2.predict(t_test2)\n",
        "    v2 = pred2[:,0].reshape(-1)\n",
        "    A2 = pred2[:,1].reshape(-1)\n",
        "    theta2 = pred2[:,2].reshape(-1)\n",
        "\n",
        "    mse_v = MSE(v1, v2)\n",
        "    mse_A = MSE(A1, A2)\n",
        "    mse_theta = MSE(theta1, theta2)\n",
        "\n",
        "    trunc_error = np.sqrt(mse_v**2 + mse_A**2 + mse_theta**2)\n",
        "\n",
        "    h = h/2\n",
        "\n",
        "  v = v1[-1]\n",
        "  A = A1[-1]\n",
        "  theta = theta1[-1]\n",
        "  t1 = np.linspace(t, t+dt, 2000)\n",
        "  t += dt\n",
        "  count += 1\n",
        "\n",
        "  def output_transform(t, y):\n",
        "      y1 = y[:, 0:1]\n",
        "      y2 = y[:, 1:2]\n",
        "      y3 = y[:, 2:3]\n",
        "\n",
        "      return tf.concat(\n",
        "          [y1 * tf.tanh(t) + v1[-1], y2 * tf.tanh(t) + A1[-1], y3 * tf.tanh(t) + theta1[-1]], axis=1\n",
        "      )\n",
        "\n",
        "\n",
        "  t_log.append(t1)\n",
        "  v_log.append(v1)\n",
        "  A_log.append(A1)\n",
        "  theta_log.append(theta1)\n",
        "\n",
        "  dic1 = {'t_train': np.array(t_log).reshape(-1), 'pred_v': np.array(v_log).reshape(-1), 'pred_A': np.array(A_log).reshape(-1), 'pred_t': np.array(theta_log).reshape(-1)}\n",
        "  dic2 = {'t_step': np.array(t_values).reshape(-1), 'v_step': np.array(v_values).reshape(-1), 'A_step': np.array(A_values).reshape(-1), 'theta_step': np.array(theta_values).reshape(-1)}\n",
        "\n",
        "  df1 = pd.DataFrame(dic1)\n",
        "  df2 = pd.DataFrame(dic2)\n",
        "\n",
        "  df1.to_csv('Prediction/pred_'+str(t)+'.csv')\n",
        "  df2.to_csv('Prediction/pred_step_'+str(t)+'.csv')"
      ],
      "metadata": {
        "id": "jNhUNEAMnDxW"
      },
      "execution_count": null,
      "outputs": []
    }
  ]
}